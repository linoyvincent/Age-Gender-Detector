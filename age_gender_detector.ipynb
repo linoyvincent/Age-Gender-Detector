{
  "cells": [
    {
      "cell_type": "markdown",
      "metadata": {
        "id": "E0Mr3cW_pKIS"
      },
      "source": [
        "**Data Preparation**"
      ]
    },
    {
      "cell_type": "markdown",
      "metadata": {
        "id": "tLmKW4Iepss8"
      },
      "source": [
        "Preprocess the images:"
      ]
    },
    {
      "cell_type": "code",
      "execution_count": null,
      "metadata": {
        "colab": {
          "base_uri": "https://localhost:8080/"
        },
        "collapsed": true,
        "id": "RFcz0GElpz4y",
        "outputId": "1d769e89-f942-4563-f35c-2dbe572c9159"
      },
      "outputs": [],
      "source": [
        "import cv2\n",
        "import numpy as np\n",
        "import os\n",
        "\n",
        "def load_images_and_labels(data_dir):\n",
        "    images = []\n",
        "    ages = []\n",
        "    genders = []\n",
        "    for filename in os.listdir(data_dir):\n",
        "            total = data_dir + \"/\" + filename\n",
        "            print(total)\n",
        "            img = cv2.imread(total)\n",
        "            img = cv2.resize(img, (200, 200))\n",
        "            images.append(img)\n",
        "            age=int(filename.split('_')[0])\n",
        "            gender=int(filename.split('_')[1])\n",
        "            ages.append(age)\n",
        "            genders.append(gender)\n",
        "    return np.array(images), np.array(ages), np.array(genders)\n",
        "\n",
        "images, ages, genders = load_images_and_labels('/content/UTKFace')\n"
      ]
    },
    {
      "cell_type": "markdown",
      "metadata": {
        "id": "2EnW25tQbn8j"
      },
      "source": [
        "Split the dataset:"
      ]
    },
    {
      "cell_type": "code",
      "execution_count": null,
      "metadata": {
        "id": "jS83NQx4bquV"
      },
      "outputs": [],
      "source": [
        "from sklearn.model_selection import train_test_split\n",
        "\n",
        "X_train, X_test, y_train_age, y_test_age, y_train_gender, y_test_gender = train_test_split(\n",
        "    images, ages, genders, test_size=0.2, random_state=42)"
      ]
    },
    {
      "cell_type": "markdown",
      "metadata": {
        "id": "NVWnDITtb54z"
      },
      "source": [
        "**Model Building**"
      ]
    },
    {
      "cell_type": "markdown",
      "metadata": {
        "id": "n7VaNbPjcB8q"
      },
      "source": [
        "Build the model"
      ]
    },
    {
      "cell_type": "code",
      "execution_count": null,
      "metadata": {
        "id": "2ZKN3uMbb459"
      },
      "outputs": [],
      "source": [
        "from tensorflow.keras.models import Model\n",
        "from tensorflow.keras.layers import Input, Conv2D, MaxPooling2D, Flatten, Dense, Dropout\n",
        "\n",
        "input_layer = Input(shape=(200, 200, 3))\n",
        "\n",
        "x = Conv2D(32, (3, 3), activation='relu')(input_layer)\n",
        "x = MaxPooling2D((2, 2))(x)\n",
        "x = Conv2D(64, (3, 3), activation='relu')(x)\n",
        "x = MaxPooling2D((2, 2))(x)\n",
        "x = Conv2D(128, (3, 3), activation='relu')(x)\n",
        "x = MaxPooling2D((2, 2))(x)\n",
        "x = Flatten()(x)\n",
        "x = Dropout(0.5)(x)\n",
        "\n",
        "age_output = Dense(1, name='age_output')(x)\n",
        "gender_output = Dense(1, activation='sigmoid', name='gender_output')(x)\n",
        "\n",
        "model = Model(inputs=input_layer, outputs=[age_output, gender_output])\n",
        "\n",
        "model.compile(optimizer='adam',\n",
        "              loss={'age_output': 'mean_squared_error', 'gender_output': 'binary_crossentropy'},\n",
        "              metrics={'age_output': 'mae', 'gender_output': 'accuracy'})"
      ]
    },
    {
      "cell_type": "markdown",
      "metadata": {
        "id": "NJRNX0vncVLp"
      },
      "source": [
        "**Model Training**"
      ]
    },
    {
      "cell_type": "code",
      "execution_count": null,
      "metadata": {
        "id": "eik6vjTHgWK5"
      },
      "outputs": [],
      "source": [
        "from tensorflow.keras.callbacks import ModelCheckpoint, EarlyStopping"
      ]
    },
    {
      "cell_type": "code",
      "execution_count": null,
      "metadata": {
        "id": "v0QL9J7ZgxRt"
      },
      "outputs": [],
      "source": [
        "checkpoint = ModelCheckpoint(\n",
        "    '/content/drive/MyDrive/visualise activation maps/age_gender_model.h5',\n",
        "    monitor='val_loss',\n",
        "    verbose=1,\n",
        "    save_best_only=True,\n",
        "    save_weights_only=False,\n",
        "    mode='min'\n",
        ")\n",
        "\n",
        "early_stopping = EarlyStopping(\n",
        "    monitor='val_loss',\n",
        "    patience=50,\n",
        "    verbose=1,\n",
        "    restore_best_weights=True\n",
        ")\n"
      ]
    },
    {
      "cell_type": "markdown",
      "metadata": {
        "id": "D1HsZz_0cXf6"
      },
      "source": [
        "Train the model"
      ]
    },
    {
      "cell_type": "code",
      "execution_count": null,
      "metadata": {
        "colab": {
          "base_uri": "https://localhost:8080/",
          "height": 106
        },
        "collapsed": true,
        "id": "3wUk9O81ccCb",
        "outputId": "1c4c200a-c9ce-43fc-a879-4fb3e40eba55"
      },
      "outputs": [],
      "source": [
        "history = model.fit(\n",
        "    X_train,\n",
        "    {'age_output': y_train_age, 'gender_output': y_train_gender},\n",
        "    validation_split=0.2,\n",
        "    epochs=100,\n",
        "    batch_size=64,\n",
        "    callbacks=[checkpoint, early_stopping]\n",
        ")\n"
      ]
    },
    {
      "cell_type": "markdown",
      "metadata": {
        "id": "P0f-gJz2c_Ho"
      },
      "source": [
        "**Evaluation**"
      ]
    },
    {
      "cell_type": "markdown",
      "metadata": {
        "id": "g_aPzjO4dGg6"
      },
      "source": [
        "Evaluate the model"
      ]
    },
    {
      "cell_type": "code",
      "execution_count": null,
      "metadata": {
        "id": "TJdIzAK33g9S"
      },
      "outputs": [],
      "source": [
        "from tensorflow.keras.models import load_model\n",
        "\n",
        "model = load_model('/content/drive/MyDrive/visualise activation maps/age_gender_model.h5')"
      ]
    },
    {
      "cell_type": "code",
      "execution_count": null,
      "metadata": {
        "colab": {
          "base_uri": "https://localhost:8080/"
        },
        "collapsed": true,
        "id": "LYbaFXFydJo9",
        "outputId": "121fac20-8e5d-4424-e049-6d248beed35f"
      },
      "outputs": [],
      "source": [
        "results = model.evaluate(X_test, {'age_output': y_test_age, 'gender_output': y_test_gender})\n",
        "print(f\"Test Loss, Test Accuracy: {results}\")"
      ]
    }
  ],
  "metadata": {
    "colab": {
      "provenance": []
    },
    "kernelspec": {
      "display_name": "Python 3",
      "name": "python3"
    },
    "language_info": {
      "name": "python"
    }
  },
  "nbformat": 4,
  "nbformat_minor": 0
}
